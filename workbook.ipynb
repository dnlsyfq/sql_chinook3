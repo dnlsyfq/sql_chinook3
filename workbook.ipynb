{
 "nbformat": 4,
 "nbformat_minor": 2,
 "metadata": {
  "language_info": {
   "name": "python",
   "codemirror_mode": {
    "name": "ipython",
    "version": 3
   },
   "version": "3.7.4-final"
  },
  "orig_nbformat": 2,
  "file_extension": ".py",
  "mimetype": "text/x-python",
  "name": "python",
  "npconvert_exporter": "python",
  "pygments_lexer": "ipython3",
  "version": 3,
  "kernelspec": {
   "name": "python37464bit4ad338c7328e4db69388c6d6cb8a3a52",
   "display_name": "Python 3.7.4 64-bit"
  }
 },
 "cells": [
  {
   "cell_type": "code",
   "execution_count": 5,
   "metadata": {},
   "outputs": [],
   "source": [
    "%%capture\n",
    "%load_ext sql\n",
    "%sql sqlite:///chinook.db"
   ]
  },
  {
   "cell_type": "code",
   "execution_count": 6,
   "metadata": {},
   "outputs": [
    {
     "name": "stdout",
     "output_type": "stream",
     "text": "* sqlite:///chinook.db\nDone.\n"
    },
    {
     "data": {
      "text/html": "<table>\n    <tr>\n        <th>name</th>\n        <th>type</th>\n    </tr>\n    <tr>\n        <td>album</td>\n        <td>table</td>\n    </tr>\n    <tr>\n        <td>artist</td>\n        <td>table</td>\n    </tr>\n    <tr>\n        <td>customer</td>\n        <td>table</td>\n    </tr>\n    <tr>\n        <td>employee</td>\n        <td>table</td>\n    </tr>\n    <tr>\n        <td>genre</td>\n        <td>table</td>\n    </tr>\n    <tr>\n        <td>invoice</td>\n        <td>table</td>\n    </tr>\n    <tr>\n        <td>invoice_line</td>\n        <td>table</td>\n    </tr>\n    <tr>\n        <td>media_type</td>\n        <td>table</td>\n    </tr>\n    <tr>\n        <td>playlist</td>\n        <td>table</td>\n    </tr>\n    <tr>\n        <td>playlist_track</td>\n        <td>table</td>\n    </tr>\n    <tr>\n        <td>track</td>\n        <td>table</td>\n    </tr>\n    <tr>\n        <td>customer_2</td>\n        <td>view</td>\n    </tr>\n    <tr>\n        <td>customer_gt_90_dollars</td>\n        <td>view</td>\n    </tr>\n</table>",
      "text/plain": "[('album', 'table'),\n ('artist', 'table'),\n ('customer', 'table'),\n ('employee', 'table'),\n ('genre', 'table'),\n ('invoice', 'table'),\n ('invoice_line', 'table'),\n ('media_type', 'table'),\n ('playlist', 'table'),\n ('playlist_track', 'table'),\n ('track', 'table'),\n ('customer_2', 'view'),\n ('customer_gt_90_dollars', 'view')]"
     },
     "execution_count": 6,
     "metadata": {},
     "output_type": "execute_result"
    }
   ],
   "source": [
    "%%sql\n",
    "SELECT \n",
    "name,\n",
    "`type`\n",
    "FROM sqlite_master\n",
    "WHERE `type` IN (\"table\",\"view\");"
   ]
  },
  {
   "cell_type": "code",
   "execution_count": 7,
   "metadata": {},
   "outputs": [
    {
     "name": "stdout",
     "output_type": "stream",
     "text": "* sqlite:///chinook.db\nDone.\n"
    },
    {
     "data": {
      "text/html": "<table>\n    <tr>\n        <th>artist_id</th>\n        <th>name</th>\n    </tr>\n    <tr>\n        <td>1</td>\n        <td>AC/DC</td>\n    </tr>\n    <tr>\n        <td>2</td>\n        <td>Accept</td>\n    </tr>\n    <tr>\n        <td>3</td>\n        <td>Aerosmith</td>\n    </tr>\n</table>",
      "text/plain": "[(1, 'AC/DC'), (2, 'Accept'), (3, 'Aerosmith')]"
     },
     "execution_count": 7,
     "metadata": {},
     "output_type": "execute_result"
    }
   ],
   "source": [
    "%%sql\n",
    "SELECT *\n",
    "FROM artist\n",
    "LIMIT 3;"
   ]
  },
  {
   "cell_type": "markdown",
   "metadata": {},
   "source": [
    "# Question 1\n",
    "Which genres sell the most and which artist we should purchase for the store"
   ]
  },
  {
   "cell_type": "code",
   "execution_count": 4,
   "metadata": {},
   "outputs": [
    {
     "data": {
      "text/html": "<div>\n<style scoped>\n    .dataframe tbody tr th:only-of-type {\n        vertical-align: middle;\n    }\n\n    .dataframe tbody tr th {\n        vertical-align: top;\n    }\n\n    .dataframe thead th {\n        text-align: right;\n    }\n</style>\n<table border=\"1\" class=\"dataframe\">\n  <thead>\n    <tr style=\"text-align: right;\">\n      <th></th>\n      <th>Artist</th>\n      <th>Genre</th>\n    </tr>\n  </thead>\n  <tbody>\n    <tr>\n      <th>0</th>\n      <td>Regal</td>\n      <td>Hip-Hop</td>\n    </tr>\n    <tr>\n      <th>1</th>\n      <td>Red Tone</td>\n      <td>Punk</td>\n    </tr>\n    <tr>\n      <th>2</th>\n      <td>Meteor and the Girls</td>\n      <td>Pop</td>\n    </tr>\n    <tr>\n      <th>3</th>\n      <td>Slim Jim Bites</td>\n      <td>Blues</td>\n    </tr>\n  </tbody>\n</table>\n</div>",
      "text/plain": "                 Artist    Genre\n0                 Regal  Hip-Hop\n1              Red Tone     Punk\n2  Meteor and the Girls      Pop\n3        Slim Jim Bites    Blues"
     },
     "execution_count": 4,
     "metadata": {},
     "output_type": "execute_result"
    }
   ],
   "source": [
    "import pandas as pd \n",
    "\n",
    "artist = {\\\n",
    "    'Artist':\\\n",
    "    ['Regal','Red Tone','Meteor and the Girls','Slim Jim Bites'],\\\n",
    "    'Genre':\\\n",
    "    ['Hip-Hop','Punk','Pop','Blues']\\\n",
    "}\n",
    "\n",
    "\n",
    "pd.DataFrame(artist)"
   ]
  },
  {
   "cell_type": "code",
   "execution_count": 27,
   "metadata": {},
   "outputs": [
    {
     "name": "stdout",
     "output_type": "stream",
     "text": "* sqlite:///chinook.db\nDone.\n"
    },
    {
     "data": {
      "text/html": "<table>\n    <tr>\n        <th>name</th>\n        <th>SUM(invoice_line.quantity)</th>\n        <th>ROUND(SUM(invoice_line.quantity)/CAST((SELECT * FROM TOTAL) AS REAL),2)</th>\n    </tr>\n    <tr>\n        <td>Rock</td>\n        <td>2635</td>\n        <td>0.55</td>\n    </tr>\n    <tr>\n        <td>Metal</td>\n        <td>619</td>\n        <td>0.13</td>\n    </tr>\n    <tr>\n        <td>Alternative &amp; Punk</td>\n        <td>492</td>\n        <td>0.1</td>\n    </tr>\n    <tr>\n        <td>Latin</td>\n        <td>167</td>\n        <td>0.04</td>\n    </tr>\n    <tr>\n        <td>R&amp;B/Soul</td>\n        <td>159</td>\n        <td>0.03</td>\n    </tr>\n    <tr>\n        <td>Blues</td>\n        <td>124</td>\n        <td>0.03</td>\n    </tr>\n    <tr>\n        <td>Jazz</td>\n        <td>121</td>\n        <td>0.03</td>\n    </tr>\n    <tr>\n        <td>Alternative</td>\n        <td>117</td>\n        <td>0.02</td>\n    </tr>\n    <tr>\n        <td>Easy Listening</td>\n        <td>74</td>\n        <td>0.02</td>\n    </tr>\n    <tr>\n        <td>Pop</td>\n        <td>63</td>\n        <td>0.01</td>\n    </tr>\n    <tr>\n        <td>Electronica/Dance</td>\n        <td>55</td>\n        <td>0.01</td>\n    </tr>\n    <tr>\n        <td>Classical</td>\n        <td>47</td>\n        <td>0.01</td>\n    </tr>\n    <tr>\n        <td>Reggae</td>\n        <td>35</td>\n        <td>0.01</td>\n    </tr>\n    <tr>\n        <td>Hip Hop/Rap</td>\n        <td>33</td>\n        <td>0.01</td>\n    </tr>\n    <tr>\n        <td>Heavy Metal</td>\n        <td>8</td>\n        <td>0.0</td>\n    </tr>\n    <tr>\n        <td>Soundtrack</td>\n        <td>5</td>\n        <td>0.0</td>\n    </tr>\n    <tr>\n        <td>TV Shows</td>\n        <td>2</td>\n        <td>0.0</td>\n    </tr>\n    <tr>\n        <td>Drama</td>\n        <td>1</td>\n        <td>0.0</td>\n    </tr>\n</table>",
      "text/plain": "[('Rock', 2635, 0.55),\n ('Metal', 619, 0.13),\n ('Alternative & Punk', 492, 0.1),\n ('Latin', 167, 0.04),\n ('R&B/Soul', 159, 0.03),\n ('Blues', 124, 0.03),\n ('Jazz', 121, 0.03),\n ('Alternative', 117, 0.02),\n ('Easy Listening', 74, 0.02),\n ('Pop', 63, 0.01),\n ('Electronica/Dance', 55, 0.01),\n ('Classical', 47, 0.01),\n ('Reggae', 35, 0.01),\n ('Hip Hop/Rap', 33, 0.01),\n ('Heavy Metal', 8, 0.0),\n ('Soundtrack', 5, 0.0),\n ('TV Shows', 2, 0.0),\n ('Drama', 1, 0.0)]"
     },
     "execution_count": 27,
     "metadata": {},
     "output_type": "execute_result"
    }
   ],
   "source": [
    "%%sql\n",
    "WITH TOTAL as (\n",
    "    SELECT SUM(quantity) as tot\n",
    "    FROM invoice_line\n",
    ")\n",
    "\n",
    "SELECT \n",
    "    genre.name,\n",
    "    SUM(invoice_line.quantity) ,\n",
    "    ROUND(SUM(invoice_line.quantity)/CAST((SELECT * FROM TOTAL) AS REAL),2)\n",
    "FROM genre \n",
    "INNER JOIN track ON genre.genre_id = track.genre_id\n",
    "INNER JOIN invoice_line ON invoice_line.track_id = track.track_id\n",
    "GROUP BY 1\n",
    "ORDER BY 2 DESC;\n",
    "\n",
    "\n",
    "\n"
   ]
  },
  {
   "cell_type": "markdown",
   "metadata": {},
   "source": [
    "# Question 2\n",
    "\n",
    "Each customer for the Chinook store gets assigned to a sales support agent within the company when they first make a purchase. You have been asked to analyze the purchases of customers belonging to each employee to see if any sales support agent is performing either better or worse than the others.\n"
   ]
  },
  {
   "cell_type": "code",
   "execution_count": 34,
   "metadata": {},
   "outputs": [
    {
     "name": "stdout",
     "output_type": "stream",
     "text": "* sqlite:///chinook.db\nDone.\n"
    },
    {
     "data": {
      "text/html": "<table>\n    <tr>\n        <th>employee_id</th>\n        <th>title</th>\n        <th>country</th>\n        <th>ROUND(SUM(supp.user_purchased),2)</th>\n    </tr>\n    <tr>\n        <td>3</td>\n        <td>Sales Support Agent</td>\n        <td>Canada</td>\n        <td>1731.51</td>\n    </tr>\n    <tr>\n        <td>4</td>\n        <td>Sales Support Agent</td>\n        <td>Canada</td>\n        <td>1584.0</td>\n    </tr>\n    <tr>\n        <td>5</td>\n        <td>Sales Support Agent</td>\n        <td>Canada</td>\n        <td>1393.92</td>\n    </tr>\n</table>",
      "text/plain": "[(3, 'Sales Support Agent', 'Canada', 1731.51),\n (4, 'Sales Support Agent', 'Canada', 1584.0),\n (5, 'Sales Support Agent', 'Canada', 1393.92)]"
     },
     "execution_count": 34,
     "metadata": {},
     "output_type": "execute_result"
    }
   ],
   "source": [
    "%%sql\n",
    "WITH supp AS (SELECT \n",
    "    customer.customer_id,\n",
    "    customer.support_rep_id,\n",
    "    ROUND(SUM(invoice.total),2) user_purchased\n",
    "FROM invoice INNER JOIN customer ON invoice.customer_id = customer.customer_id\n",
    "GROUP BY 1,2)\n",
    "\n",
    "SELECT \n",
    "    employee.employee_id,\n",
    "    employee.title,\n",
    "    employee.country,\n",
    "    ROUND(SUM(supp.user_purchased),2)\n",
    "FROM employee INNER JOIN supp ON employee.employee_id = supp.support_rep_id\n",
    "GROUP BY 1;"
   ]
  },
  {
   "cell_type": "markdown",
   "metadata": {},
   "source": [
    "# Question 3"
   ]
  },
  {
   "cell_type": "code",
   "execution_count": 55,
   "metadata": {},
   "outputs": [
    {
     "name": "stdout",
     "output_type": "stream",
     "text": "* sqlite:///chinook.db\n(sqlite3.OperationalError) near \"(\": syntax error\n[SQL: WITH customer_total AS ( SELECT\n    customer.country,\n    COUNT(customer.country) as total_customer\nFROM customer\nGROUP BY 1) ,\n    country_total AS (SELECT  customer_total.* ,\n        CASE WHEN total_customer = 1 THEN 1\n            ELSE 0 END AS Other\n    FROM customer_total)\n\nSELECT \n    invoice.billing_country,\n    COUNT(invoice.customer_id),\n    SUM(invoice.total),\n    SUM(invoice.total) / COUNT(invoice.customer_id)\n    AVG(invoice.total)\nFROM invoice INNER JOIN country_total ON invoice.billing_country = country_total.country\nGROUP BY 1\nORDER BY country_total.Other ASC;]\n(Background on this error at: http://sqlalche.me/e/e3q8)\n"
    }
   ],
   "source": [
    "%%sql\n",
    "WITH customer_total AS ( SELECT\n",
    "    customer.country,\n",
    "    COUNT(customer.country) as total_customer\n",
    "FROM customer\n",
    "GROUP BY 1) ,\n",
    "    country_total AS (SELECT  customer_total.* ,\n",
    "        CASE WHEN total_customer = 1 THEN 1\n",
    "            ELSE 0 END AS Other\n",
    "    FROM customer_total)\n",
    "\n",
    "SELECT \n",
    "    invoice.billing_country,\n",
    "    COUNT(invoice.customer_id),\n",
    "    SUM(invoice.total),\n",
    "    SUM(invoice.total) / COUNT(invoice.customer_id)\n",
    "    AVG(invoice.total)\n",
    "FROM invoice INNER JOIN country_total ON invoice.billing_country = country_total.country\n",
    "GROUP BY 1\n",
    "ORDER BY country_total.Other ASC;\n"
   ]
  },
  {
   "cell_type": "code",
   "execution_count": null,
   "metadata": {},
   "outputs": [],
   "source": []
  }
 ]
}